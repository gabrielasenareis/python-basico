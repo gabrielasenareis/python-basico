{
  "nbformat": 4,
  "nbformat_minor": 0,
  "metadata": {
    "colab": {
      "provenance": [],
      "authorship_tag": "ABX9TyP/H0E1iLEcZAzfWwXAYqjj",
      "include_colab_link": true
    },
    "kernelspec": {
      "name": "python3",
      "display_name": "Python 3"
    },
    "language_info": {
      "name": "python"
    }
  },
  "cells": [
    {
      "cell_type": "markdown",
      "metadata": {
        "id": "view-in-github",
        "colab_type": "text"
      },
      "source": [
        "<a href=\"https://colab.research.google.com/github/gabrielasenareis/python-basico/blob/main/binomial.ipynb\" target=\"_parent\"><img src=\"https://colab.research.google.com/assets/colab-badge.svg\" alt=\"Open In Colab\"/></a>"
      ]
    },
    {
      "cell_type": "code",
      "execution_count": 2,
      "metadata": {
        "id": "rOzon7zgD3Yb"
      },
      "outputs": [],
      "source": [
        "# distribuição binomial\n",
        "from scipy.stats import binom"
      ]
    },
    {
      "cell_type": "code",
      "source": [
        "# jogando uma moeda 5 vezes, qual a probabilidade de dar cara 3 vezes?\n",
        "binom.pmf(3,5,0.5)\n",
        "# ou seja 31%"
      ],
      "metadata": {
        "colab": {
          "base_uri": "https://localhost:8080/"
        },
        "id": "mvNMrGxYLIid",
        "outputId": "525443fe-7ce9-445b-b990-bff1592b2d92"
      },
      "execution_count": 7,
      "outputs": [
        {
          "output_type": "execute_result",
          "data": {
            "text/plain": [
              "0.31249999999999983"
            ]
          },
          "metadata": {},
          "execution_count": 7
        }
      ]
    },
    {
      "cell_type": "code",
      "source": [
        "# passando por 4 sinais de 4 tempos, qual a probabilidade de pegar sinal verde\n",
        "# 3 vezes?\n",
        "binom.pmf(3,4,0.25)"
      ],
      "metadata": {
        "colab": {
          "base_uri": "https://localhost:8080/"
        },
        "id": "jY5HPVPXLu8j",
        "outputId": "d153093e-eb59-4725-a323-b4bf8cba7e15"
      },
      "execution_count": 5,
      "outputs": [
        {
          "output_type": "execute_result",
          "data": {
            "text/plain": [
              "0.046875000000000014"
            ]
          },
          "metadata": {},
          "execution_count": 5
        }
      ]
    },
    {
      "cell_type": "code",
      "source": [
        "# agora usando a propriedade cumulativa, somado a probabilidade de pegar sinal verde\n",
        "# 0, 1, 2 e 3 vezes\n",
        "binom.cdf(3,4,0.25)"
      ],
      "metadata": {
        "colab": {
          "base_uri": "https://localhost:8080/"
        },
        "id": "WXnNqepCMMC0",
        "outputId": "b48c4c28-534d-41c2-90af-6c819b9c9c83"
      },
      "execution_count": 8,
      "outputs": [
        {
          "output_type": "execute_result",
          "data": {
            "text/plain": [
              "0.99609375"
            ]
          },
          "metadata": {},
          "execution_count": 8
        }
      ]
    },
    {
      "cell_type": "code",
      "source": [
        "# numa prova com 12 questões e 4 alternativas cada, qual a probabilidade de acertar 7 questões\n",
        "# escolhendo aleatoriamente\n",
        "binom.pmf(7,12,0.25)\n",
        "# ou seja 1%"
      ],
      "metadata": {
        "colab": {
          "base_uri": "https://localhost:8080/"
        },
        "id": "wjZIL4MyMgPN",
        "outputId": "f583b8e1-25be-4a0e-caab-4fe1d3437c3b"
      },
      "execution_count": 10,
      "outputs": [
        {
          "output_type": "execute_result",
          "data": {
            "text/plain": [
              "0.011471271514892587"
            ]
          },
          "metadata": {},
          "execution_count": 10
        }
      ]
    }
  ]
}