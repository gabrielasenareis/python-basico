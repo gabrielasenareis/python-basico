{
  "nbformat": 4,
  "nbformat_minor": 0,
  "metadata": {
    "colab": {
      "provenance": [],
      "toc_visible": true,
      "authorship_tag": "ABX9TyM6dhgYvgVGOFOZlFxYaegi",
      "include_colab_link": true
    },
    "kernelspec": {
      "name": "python3",
      "display_name": "Python 3"
    },
    "language_info": {
      "name": "python"
    }
  },
  "cells": [
    {
      "cell_type": "markdown",
      "metadata": {
        "id": "view-in-github",
        "colab_type": "text"
      },
      "source": [
        "<a href=\"https://colab.research.google.com/github/gabrielasenareis/python-basico/blob/main/iniciandoPython.ipynb\" target=\"_parent\"><img src=\"https://colab.research.google.com/assets/colab-badge.svg\" alt=\"Open In Colab\"/></a>"
      ]
    },
    {
      "cell_type": "code",
      "execution_count": null,
      "metadata": {
        "id": "BEVz7Oy6Ka2Y",
        "colab": {
          "base_uri": "https://localhost:8080/"
        },
        "outputId": "93f0fa14-33a0-49ec-928f-0c49059d3ae3"
      },
      "outputs": [
        {
          "output_type": "stream",
          "name": "stdout",
          "text": [
            "Olá mundo!!!!\n"
          ]
        }
      ],
      "source": [
        "\n",
        "\n",
        "# Escreva um programa que imprima \"Olá, mundo!\" na tela.\n",
        "print('Olá mundo!!!!')\n"
      ]
    },
    {
      "cell_type": "code",
      "source": [
        "# Escreva um programa que calcule a soma de dois números e imprima o resultado\n",
        "\n",
        "num1 = int(input(\"digite o primeiro número:\"))\n",
        "num2 = int(input(\"digite o segundo número:\"))\n",
        "soma = num1 + num2\n",
        "print(\"A soma de\", num1, \"e\", num2, \"é igual a\", soma, \"!!!!\")"
      ],
      "metadata": {
        "colab": {
          "base_uri": "https://localhost:8080/"
        },
        "id": "lRScJYfXjDpF",
        "outputId": "4d8bab15-fcc5-473f-e4c8-895e243478d9"
      },
      "execution_count": null,
      "outputs": [
        {
          "output_type": "stream",
          "name": "stdout",
          "text": [
            "digite o primeiro número:7\n",
            "digite o segundo número:7\n",
            "A soma de 7 e 7 é igual a 14 !!!!\n"
          ]
        }
      ]
    },
    {
      "cell_type": "code",
      "source": [
        "# Escreva um programa que calcule a área de um retângulo\n",
        "\n",
        "base = float(input(\"Digite o valor da base: \"))\n",
        "altura = float(input(\"Digite o valor da altura: \"))\n",
        "area = base * altura\n",
        "print(\"A área do retângulo é\", area)"
      ],
      "metadata": {
        "colab": {
          "base_uri": "https://localhost:8080/"
        },
        "id": "DkJoUEAAjKts",
        "outputId": "97f2b98e-c0b4-46f0-9496-95a4c30d852e"
      },
      "execution_count": null,
      "outputs": [
        {
          "output_type": "stream",
          "name": "stdout",
          "text": [
            "Digite o valor da base: 44\n",
            "Digite o valor da altura: 44\n",
            "A área do retângulo é 1936.0\n"
          ]
        }
      ]
    },
    {
      "cell_type": "code",
      "source": [
        "# Escreva um programa que verifique se um número é par ou ímpar\n",
        "\n",
        "numero = int(input(\"Digite um número inteiro: \"))\n",
        "if numero % 2 == 0:\n",
        "    print(numero, \"é um número par\")\n",
        "else:\n",
        "    print(numero, \"é um número ímpar\")"
      ],
      "metadata": {
        "colab": {
          "base_uri": "https://localhost:8080/"
        },
        "id": "6ofp2di-kzam",
        "outputId": "42f5e7c7-6d99-4d13-e82f-a6c77a6b4585"
      },
      "execution_count": null,
      "outputs": [
        {
          "output_type": "stream",
          "name": "stdout",
          "text": [
            "Digite um número inteiro: 2\n",
            "2 é um número par\n"
          ]
        }
      ]
    }
  ]
}