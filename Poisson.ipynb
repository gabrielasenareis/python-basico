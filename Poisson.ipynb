{
  "nbformat": 4,
  "nbformat_minor": 0,
  "metadata": {
    "colab": {
      "provenance": [],
      "authorship_tag": "ABX9TyP9+PaChu8v2PmJXpBtMCEW",
      "include_colab_link": true
    },
    "kernelspec": {
      "name": "python3",
      "display_name": "Python 3"
    },
    "language_info": {
      "name": "python"
    }
  },
  "cells": [
    {
      "cell_type": "markdown",
      "metadata": {
        "id": "view-in-github",
        "colab_type": "text"
      },
      "source": [
        "<a href=\"https://colab.research.google.com/github/gabrielasenareis/python-basico/blob/main/Poisson.ipynb\" target=\"_parent\"><img src=\"https://colab.research.google.com/assets/colab-badge.svg\" alt=\"Open In Colab\"/></a>"
      ]
    },
    {
      "cell_type": "code",
      "execution_count": 3,
      "metadata": {
        "id": "gVzSeZ3__dQy"
      },
      "outputs": [],
      "source": [
        "# distribuição de poisson\n",
        "from scipy.stats import poisson"
      ]
    },
    {
      "cell_type": "code",
      "source": [
        "# em uma situação hipotética, a média de acidentes de carro é de 2 por dia\n",
        "# qual a probabilidade de acontecer 3 acidentes por dia?\n",
        "#para cálculo da probabilidade pontual se usa a função pmf\n",
        "# para cumulativa se usa cdf ou sf\n",
        "poisson.pmf(3,2)"
      ],
      "metadata": {
        "colab": {
          "base_uri": "https://localhost:8080/"
        },
        "id": "umS_qdGZBxkd",
        "outputId": "795f7b49-530b-4e11-f651-20f1c7a1a4d7"
      },
      "execution_count": 4,
      "outputs": [
        {
          "output_type": "execute_result",
          "data": {
            "text/plain": [
              "0.18044704431548356"
            ]
          },
          "metadata": {},
          "execution_count": 4
        }
      ]
    },
    {
      "cell_type": "code",
      "source": [
        "# por exemplo, para calcular a probabilidade de acontecer 3 ou menos acidentes (3,2,1 ou 0)\n",
        "# se usa a propriedade cumulativa\n",
        "poisson.cdf(3,2)"
      ],
      "metadata": {
        "colab": {
          "base_uri": "https://localhost:8080/"
        },
        "id": "1haKFtsqCh-l",
        "outputId": "d1db1f4d-f52f-42fe-b357-a46adec843af"
      },
      "execution_count": 6,
      "outputs": [
        {
          "output_type": "execute_result",
          "data": {
            "text/plain": [
              "0.857123460498547"
            ]
          },
          "metadata": {},
          "execution_count": 6
        }
      ]
    },
    {
      "cell_type": "code",
      "source": [
        "# e para saber a probabilidade de acontecerem mais de 3 acidentes por dia\n",
        "poisson.sf(3,2)"
      ],
      "metadata": {
        "colab": {
          "base_uri": "https://localhost:8080/"
        },
        "id": "3HYEY7BVC01V",
        "outputId": "ed444b1d-e2c7-4789-840e-b0db21af388a"
      },
      "execution_count": 7,
      "outputs": [
        {
          "output_type": "execute_result",
          "data": {
            "text/plain": [
              "0.14287653950145296"
            ]
          },
          "metadata": {},
          "execution_count": 7
        }
      ]
    }
  ]
}