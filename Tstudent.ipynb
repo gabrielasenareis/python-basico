{
  "nbformat": 4,
  "nbformat_minor": 0,
  "metadata": {
    "colab": {
      "provenance": [],
      "authorship_tag": "ABX9TyNg5W9kdvmck0WMyR/89nTR",
      "include_colab_link": true
    },
    "kernelspec": {
      "name": "python3",
      "display_name": "Python 3"
    },
    "language_info": {
      "name": "python"
    }
  },
  "cells": [
    {
      "cell_type": "markdown",
      "metadata": {
        "id": "view-in-github",
        "colab_type": "text"
      },
      "source": [
        "<a href=\"https://colab.research.google.com/github/gabrielasenareis/python-basico/blob/main/Tstudent.ipynb\" target=\"_parent\"><img src=\"https://colab.research.google.com/assets/colab-badge.svg\" alt=\"Open In Colab\"/></a>"
      ]
    },
    {
      "cell_type": "code",
      "execution_count": 2,
      "metadata": {
        "id": "bpDZ5QH1CnhS"
      },
      "outputs": [],
      "source": [
        "# distribuição T student\n",
        "# importação da função para fazer o teste\n",
        "from scipy.stats import t"
      ]
    },
    {
      "cell_type": "code",
      "source": [
        "# problema 1: a média de salário de cientistas de dados é de R$75 a hora, amostra com\n",
        "# 9 funcionários, desvio padrão da amostra = 10 e o grau de liberdade = 8\n",
        "# com esses dados olhando na tabela  o valor de t = 1.5\n",
        "\n",
        "# sabendo disso, qual a probabilidade de um funcionário ter o salário menor que R$80?\n",
        "\n",
        "t.cdf(1.5,8)\n",
        "# probabilidade de 91%"
      ],
      "metadata": {
        "colab": {
          "base_uri": "https://localhost:8080/"
        },
        "id": "CN7AU3P_9Dm7",
        "outputId": "e95e012b-4602-48c2-857e-c29af70d3dbd"
      },
      "execution_count": 5,
      "outputs": [
        {
          "output_type": "execute_result",
          "data": {
            "text/plain": [
              "0.9139983540240443"
            ]
          },
          "metadata": {},
          "execution_count": 5
        }
      ]
    },
    {
      "cell_type": "code",
      "source": [
        "# e qual a probabilidade de um funcionário ter um salário maior que R$80?\n",
        "t.sf(1.5,8)"
      ],
      "metadata": {
        "colab": {
          "base_uri": "https://localhost:8080/"
        },
        "id": "Jhcaa5AO-RIE",
        "outputId": "16bb1dd5-74d3-4eaf-a77e-15e13e87974a"
      },
      "execution_count": 6,
      "outputs": [
        {
          "output_type": "execute_result",
          "data": {
            "text/plain": [
              "0.08600164597595565"
            ]
          },
          "metadata": {},
          "execution_count": 6
        }
      ]
    }
  ]
}