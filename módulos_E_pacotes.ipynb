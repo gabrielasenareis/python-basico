{
  "nbformat": 4,
  "nbformat_minor": 0,
  "metadata": {
    "colab": {
      "provenance": [],
      "authorship_tag": "ABX9TyPuceHSDoTSrDptqhoYPXgE",
      "include_colab_link": true
    },
    "kernelspec": {
      "name": "python3",
      "display_name": "Python 3"
    },
    "language_info": {
      "name": "python"
    }
  },
  "cells": [
    {
      "cell_type": "markdown",
      "metadata": {
        "id": "view-in-github",
        "colab_type": "text"
      },
      "source": [
        "<a href=\"https://colab.research.google.com/github/gabrielasenareis/python-basico/blob/main/m%C3%B3dulos_E_pacotes.ipynb\" target=\"_parent\"><img src=\"https://colab.research.google.com/assets/colab-badge.svg\" alt=\"Open In Colab\"/></a>"
      ]
    },
    {
      "cell_type": "code",
      "execution_count": 4,
      "metadata": {
        "id": "rYO8OdXZ56St",
        "colab": {
          "base_uri": "https://localhost:8080/"
        },
        "outputId": "8265b595-faee-4231-afae-bab4b7dc2fc9"
      },
      "outputs": [
        {
          "output_type": "stream",
          "name": "stdout",
          "text": [
            "a média é 3.5 e a mediana é 3.5\n"
          ]
        }
      ],
      "source": [
        "import statistics as est\n",
        "\n",
        "z = [1,2,3,4,5,6]\n",
        "x = est.mean(z)\n",
        "y = est.median(z)\n",
        "print('a média é', x, 'e a mediana é', y)"
      ]
    },
    {
      "cell_type": "code",
      "source": [
        "# importando apenas as funções\n",
        "from statistics import mean, median\n",
        "z = [1,2,3,4,5,6]\n",
        "x = est.mean(z)\n",
        "y = est.median(z)\n",
        "print('a média é', x, 'e a mediana é', y)"
      ],
      "metadata": {
        "colab": {
          "base_uri": "https://localhost:8080/"
        },
        "id": "6z1wcJ3SuzzS",
        "outputId": "cd4aa3f4-84b8-4021-9a2e-69f1b5b7f682"
      },
      "execution_count": 6,
      "outputs": [
        {
          "output_type": "stream",
          "name": "stdout",
          "text": [
            "a média é 3.5 e a mediana é 3.5\n"
          ]
        }
      ]
    },
    {
      "cell_type": "code",
      "source": [
        "# importando o modulo completo usando '*'\n",
        "from statistics import *\n",
        "z = [1,2,3,4,5,6]\n",
        "x = est.mean(z)\n",
        "y = est.median(z)\n",
        "print('a média é', x, 'e a mediana é', y)"
      ],
      "metadata": {
        "colab": {
          "base_uri": "https://localhost:8080/"
        },
        "id": "GwB2rk_pvKhB",
        "outputId": "4f140adf-50c1-488b-bbd9-01f345866439"
      },
      "execution_count": 7,
      "outputs": [
        {
          "output_type": "stream",
          "name": "stdout",
          "text": [
            "a média é 3.5 e a mediana é 3.5\n"
          ]
        }
      ]
    }
  ]
}