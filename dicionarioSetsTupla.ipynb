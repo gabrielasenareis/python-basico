{
  "nbformat": 4,
  "nbformat_minor": 0,
  "metadata": {
    "colab": {
      "provenance": [],
      "authorship_tag": "ABX9TyNsTs1bpnrKUOuIIboUywJI",
      "include_colab_link": true
    },
    "kernelspec": {
      "name": "python3",
      "display_name": "Python 3"
    },
    "language_info": {
      "name": "python"
    }
  },
  "cells": [
    {
      "cell_type": "markdown",
      "metadata": {
        "id": "view-in-github",
        "colab_type": "text"
      },
      "source": [
        "<a href=\"https://colab.research.google.com/github/gabrielasenareis/python-basico/blob/main/dicionarioSetsTupla.ipynb\" target=\"_parent\"><img src=\"https://colab.research.google.com/assets/colab-badge.svg\" alt=\"Open In Colab\"/></a>"
      ]
    },
    {
      "cell_type": "markdown",
      "source": [
        "Dicionário"
      ],
      "metadata": {
        "id": "2Cxt2a1gShFK"
      }
    },
    {
      "cell_type": "code",
      "execution_count": 41,
      "metadata": {
        "colab": {
          "base_uri": "https://localhost:8080/",
          "height": 199
        },
        "id": "9pH5IlDli26k",
        "outputId": "c4028f23-fd82-4dcb-9ef2-ec20a3963350"
      },
      "outputs": [
        {
          "name": "stdout",
          "output_type": "stream",
          "text": [
            "{'Gabriela': 10, 'Gabriel': 0, 'Tibito': 5.5}\n",
            "10\n",
            "['Gabriela', 'Gabriel', 'Tibito'] [10, 0, 5.5]\n",
            "True\n",
            "False\n",
            "{'Gabriela': 10, 'Gabriel': 0}\n",
            "{'Gabriela': 10, 'Gabriel': 0, 'Pepeta': 9.5}\n",
            "('Gabriela', 10)\n",
            "Pesquise um aluno: sueli\n"
          ]
        },
        {
          "output_type": "execute_result",
          "data": {
            "text/plain": [
              "'Aluno não encontrado'"
            ],
            "application/vnd.google.colaboratory.intrinsic+json": {
              "type": "string"
            }
          },
          "metadata": {},
          "execution_count": 41
        }
      ],
      "source": [
        "# dicionário: estrutura de chave/valor\n",
        "\n",
        "notas = { 'Gabriela': 10, 'Gabriel' : 0, 'Tibito': 5.5}\n",
        "print(notas)\n",
        "print(notas['Gabriela'])\n",
        "\n",
        "# mostrando todas as chaves e todos os valores\n",
        "\n",
        "listaChaves = list(notas.keys())\n",
        "\n",
        "listaValores = list(notas.values())\n",
        "\n",
        "print(listaChaves, listaValores)\n",
        "\n",
        "# testando logicamente a existência\n",
        "\n",
        "print('Gabriela' in notas)\n",
        "print('Pepeta' in notas)\n",
        "\n",
        "# deletando um elemento\n",
        "\n",
        "del(notas['Tibito'])\n",
        "print(notas)\n",
        "\n",
        "# incluindo um elemento\n",
        "\n",
        "notas['Pepeta'] = 9.5\n",
        "print(notas)\n",
        "\n",
        "# acessando um item pela posição (converte em uma lista para acessar)\n",
        "\n",
        "listaNotas = list(notas.items())[0]\n",
        "print(listaNotas)\n",
        "\n",
        "# buscando um valor, se não encontrado mostra o segundo parâmetro\n",
        "\n",
        "notas.get(input('Pesquise um aluno: '), 'Aluno não encontrado')\n",
        "\n",
        "\n"
      ]
    },
    {
      "cell_type": "markdown",
      "source": [
        "Sets"
      ],
      "metadata": {
        "id": "mfvBx_AGSkK7"
      }
    },
    {
      "cell_type": "code",
      "source": [
        "# sets: conjuntos não ordenados de elementos não repetidos\n",
        "\n",
        "bigdata = {'spark', 'hive', 'sqoop'}\n",
        "print(bigdata)\n",
        "\n",
        "# verificando a existência\n",
        "print('spark' in bigdata)\n",
        "\n",
        "# adicionando item\n",
        "bigdata.add('hadoop')\n",
        "print(bigdata)\n",
        "\n",
        "# número de elementos do set\n",
        "print(len(bigdata))"
      ],
      "metadata": {
        "colab": {
          "base_uri": "https://localhost:8080/"
        },
        "id": "TyE2Hw0hSj3t",
        "outputId": "ee3a84c8-4fe6-405d-b58e-2c3f590d737f"
      },
      "execution_count": 25,
      "outputs": [
        {
          "output_type": "stream",
          "name": "stdout",
          "text": [
            "{'spark', 'sqoop', 'hive'}\n",
            "True\n",
            "{'spark', 'sqoop', 'hadoop', 'hive'}\n",
            "4\n"
          ]
        }
      ]
    },
    {
      "cell_type": "markdown",
      "source": [
        "Tuplas"
      ],
      "metadata": {
        "id": "zo1Wudk_VFlW"
      }
    },
    {
      "cell_type": "code",
      "source": [
        "# tuplas: listas que não podem ser alteradas\n",
        "tupla = (1,2,3,4,5,6)\n",
        "print(tupla[3])\n",
        "\n",
        "# dicionário em que cada posição recebe uma tupla\n",
        "\n",
        "dicTupla = { (1,2): 1, (2,3): 2, (3,4): 3, (4,5): 4}\n",
        "\n",
        "print((1,2) in dicTupla)\n",
        "print(dicTupla[(1,2)])"
      ],
      "metadata": {
        "colab": {
          "base_uri": "https://localhost:8080/"
        },
        "id": "EhfPGW-_VFQL",
        "outputId": "3d892513-01ff-43f2-9e75-74f3bbfc2218"
      },
      "execution_count": 32,
      "outputs": [
        {
          "output_type": "stream",
          "name": "stdout",
          "text": [
            "4\n",
            "True\n",
            "1\n"
          ]
        }
      ]
    }
  ]
}