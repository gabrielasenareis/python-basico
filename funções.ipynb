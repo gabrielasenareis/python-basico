{
  "nbformat": 4,
  "nbformat_minor": 0,
  "metadata": {
    "colab": {
      "provenance": [],
      "authorship_tag": "ABX9TyOSazP7JM2ZE+kzuj+BL/k2",
      "include_colab_link": true
    },
    "kernelspec": {
      "name": "python3",
      "display_name": "Python 3"
    },
    "language_info": {
      "name": "python"
    }
  },
  "cells": [
    {
      "cell_type": "markdown",
      "metadata": {
        "id": "view-in-github",
        "colab_type": "text"
      },
      "source": [
        "<a href=\"https://colab.research.google.com/github/gabrielasenareis/python-basico/blob/main/fun%C3%A7%C3%B5es.ipynb\" target=\"_parent\"><img src=\"https://colab.research.google.com/assets/colab-badge.svg\" alt=\"Open In Colab\"/></a>"
      ]
    },
    {
      "cell_type": "code",
      "execution_count": 3,
      "metadata": {
        "colab": {
          "base_uri": "https://localhost:8080/"
        },
        "id": "ABqe-VDWw7aJ",
        "outputId": "9a9c1a97-a51f-4357-997b-2e4d038067d5"
      },
      "outputs": [
        {
          "output_type": "stream",
          "name": "stdout",
          "text": [
            "Olá mundo\n"
          ]
        }
      ],
      "source": [
        "def imprime():\n",
        "  print('Olá mundo')\n",
        "\n",
        "imprime()"
      ]
    },
    {
      "cell_type": "code",
      "source": [
        "def imprime(n):\n",
        "  print(n)\n",
        "\n",
        "imprime(\"Olá mundo\")"
      ],
      "metadata": {
        "colab": {
          "base_uri": "https://localhost:8080/"
        },
        "id": "0VATxAtUyHH-",
        "outputId": "9c9d9ef8-7993-41ed-954b-b58d644079ba"
      },
      "execution_count": 6,
      "outputs": [
        {
          "output_type": "stream",
          "name": "stdout",
          "text": [
            "Olá mundo\n"
          ]
        }
      ]
    },
    {
      "cell_type": "code",
      "source": [
        "def potencial(n):\n",
        "  return n*n\n",
        "\n",
        "x = potencial(3)\n",
        "print(x)"
      ],
      "metadata": {
        "colab": {
          "base_uri": "https://localhost:8080/"
        },
        "id": "5tYX3wSRyoIa",
        "outputId": "faec43ff-45ba-49b6-8bc2-8388aee99e7e"
      },
      "execution_count": 9,
      "outputs": [
        {
          "output_type": "stream",
          "name": "stdout",
          "text": [
            "9\n"
          ]
        }
      ]
    },
    {
      "cell_type": "code",
      "source": [
        "def intervalo(inic=1 ,fim = 11):\n",
        "          for n in range(inic,fim+1):\n",
        "            print(n)\n",
        "intervalo()\n",
        "print('-------------')\n",
        "intervalo(5,17)"
      ],
      "metadata": {
        "colab": {
          "base_uri": "https://localhost:8080/"
        },
        "id": "LmC377A8zEFu",
        "outputId": "3204b799-9d8f-41e5-bca1-4a384dcb82a2"
      },
      "execution_count": 18,
      "outputs": [
        {
          "output_type": "stream",
          "name": "stdout",
          "text": [
            "1\n",
            "2\n",
            "3\n",
            "4\n",
            "5\n",
            "6\n",
            "7\n",
            "8\n",
            "9\n",
            "10\n",
            "11\n",
            "-------------\n",
            "5\n",
            "6\n",
            "7\n",
            "8\n",
            "9\n",
            "10\n",
            "11\n",
            "12\n",
            "13\n",
            "14\n",
            "15\n",
            "16\n",
            "17\n"
          ]
        }
      ]
    },
    {
      "cell_type": "code",
      "source": [
        "# função para calcular uma amplitude\n",
        "def amplitude(lista):\n",
        "  valor_min= min(lista)\n",
        "  valor_max = max(lista)\n",
        "  ampli = valor_max - valor_min\n",
        "  print('o valor maximo é', valor_max, 'o valor mínimo é', valor_min,'e sua amplitude é', ampli)\n",
        "lista = [1,2,3,4,5,6,7,8,9]\n",
        "amplitude(lista)"
      ],
      "metadata": {
        "colab": {
          "base_uri": "https://localhost:8080/"
        },
        "id": "b-QCKyzh49a9",
        "outputId": "79cb03ef-0a89-4691-f850-57671a061e30"
      },
      "execution_count": 21,
      "outputs": [
        {
          "output_type": "stream",
          "name": "stdout",
          "text": [
            "o valor maximo é 9 o valor mínimo é 1 e sua amplitude é 8\n"
          ]
        }
      ]
    },
    {
      "cell_type": "code",
      "source": [
        "# função que recebe uma string e imprime ela na vertical\n",
        "\n",
        "\n",
        "def vertical(palavra):\n",
        "  for n in palavra:\n",
        "    print(n)\n",
        "exemplo = \"paz\"\n",
        "vertical(exemplo)\n",
        "\n",
        "print('-----------------')\n",
        "\n",
        "\n",
        "def vertical2():\n",
        "  palavra2 = input('digite uma palavra: ')\n",
        "  for n in palavra2:\n",
        "    print(n)\n",
        "\n",
        "vertical2()"
      ],
      "metadata": {
        "colab": {
          "base_uri": "https://localhost:8080/"
        },
        "id": "PP-TtDSv9S5G",
        "outputId": "6bd07eac-3378-400b-ff86-f70300b321e5"
      },
      "execution_count": 39,
      "outputs": [
        {
          "output_type": "stream",
          "name": "stdout",
          "text": [
            "p\n",
            "a\n",
            "z\n",
            "-----------------\n",
            "digite uma palavra: paz\n",
            "p\n",
            "a\n",
            "z\n"
          ]
        }
      ]
    }
  ]
}