{
  "nbformat": 4,
  "nbformat_minor": 0,
  "metadata": {
    "colab": {
      "provenance": [],
      "authorship_tag": "ABX9TyOZyG9MgY/JAP58gF5gAUGT",
      "include_colab_link": true
    },
    "kernelspec": {
      "name": "python3",
      "display_name": "Python 3"
    },
    "language_info": {
      "name": "python"
    }
  },
  "cells": [
    {
      "cell_type": "markdown",
      "metadata": {
        "id": "view-in-github",
        "colab_type": "text"
      },
      "source": [
        "<a href=\"https://colab.research.google.com/github/gabrielasenareis/python-basico/blob/main/qui_quadrado.ipynb\" target=\"_parent\"><img src=\"https://colab.research.google.com/assets/colab-badge.svg\" alt=\"Open In Colab\"/></a>"
      ]
    },
    {
      "cell_type": "code",
      "execution_count": 2,
      "metadata": {
        "id": "dw2Y4JNMznet"
      },
      "outputs": [],
      "source": [
        "# teste qui quadrado\n",
        "import numpy as np\n",
        "from scipy.stats import chi2_contingency"
      ]
    },
    {
      "cell_type": "code",
      "source": [
        "# vou criar uma matriz com valores proporcionais de 25 e 75%\n",
        "# e realizar o teste para ver se a diferença entre eles é significativa\n",
        "# a hipótese nula é de que não existe diferença significativa\n",
        "teste = np.array([[19,6], [43,32]])\n",
        "teste"
      ],
      "metadata": {
        "colab": {
          "base_uri": "https://localhost:8080/"
        },
        "id": "i8VlU4l00Slf",
        "outputId": "30aa3a18-2dca-4007-afae-1c3f5a7bd217"
      },
      "execution_count": 3,
      "outputs": [
        {
          "output_type": "execute_result",
          "data": {
            "text/plain": [
              "array([[19,  6],\n",
              "       [43, 32]])"
            ]
          },
          "metadata": {},
          "execution_count": 3
        }
      ]
    },
    {
      "cell_type": "code",
      "source": [
        "# executando a função do qui quadrado o segundo valor exibido é o p value\n",
        "chi2_contingency(teste)\n",
        "# o pvalue foi superior a 0.05, então não existem evidencias contra a hipótese nula\n",
        "# ou seja, não existem evidencias contra a inexistencia de diferença significativa dos valores"
      ],
      "metadata": {
        "colab": {
          "base_uri": "https://localhost:8080/"
        },
        "id": "WOuJ4VVO0zBY",
        "outputId": "8aa9d3af-8d93-4bbc-ee2e-4fe4ee9dc094"
      },
      "execution_count": 5,
      "outputs": [
        {
          "output_type": "execute_result",
          "data": {
            "text/plain": [
              "Chi2ContingencyResult(statistic=2.037351443123939, pvalue=0.15347667161786666, dof=1, expected_freq=array([[15.5,  9.5],\n",
              "       [46.5, 28.5]]))"
            ]
          },
          "metadata": {},
          "execution_count": 5
        }
      ]
    },
    {
      "cell_type": "code",
      "source": [
        "# vamos alterar os valores, mantendo a proporção de 25 e 75% e ver se essa diferença\n",
        "# se torna significativa\n",
        "teste2 = np.array([[22,3], [43,32]])\n",
        "teste2"
      ],
      "metadata": {
        "colab": {
          "base_uri": "https://localhost:8080/"
        },
        "id": "W1xSSTQp1q3V",
        "outputId": "99d52033-c4e8-471b-8a4d-1879063118bc"
      },
      "execution_count": 7,
      "outputs": [
        {
          "output_type": "execute_result",
          "data": {
            "text/plain": [
              "array([[22,  3],\n",
              "       [43, 32]])"
            ]
          },
          "metadata": {},
          "execution_count": 7
        }
      ]
    },
    {
      "cell_type": "code",
      "source": [
        "chi2_contingency(teste2)\n",
        "# o p value foi muito inferior a 0.01 indicando que existem evidencias contra a hipótese nula\n",
        "# ou seja, existe diferença significativa"
      ],
      "metadata": {
        "colab": {
          "base_uri": "https://localhost:8080/"
        },
        "id": "reT7H8ma1_KF",
        "outputId": "c9f3f893-2e23-4926-d052-088eb8066aff"
      },
      "execution_count": 9,
      "outputs": [
        {
          "output_type": "execute_result",
          "data": {
            "text/plain": [
              "Chi2ContingencyResult(statistic=6.461538461538461, pvalue=0.011023416388221425, dof=1, expected_freq=array([[16.25,  8.75],\n",
              "       [48.75, 26.25]]))"
            ]
          },
          "metadata": {},
          "execution_count": 9
        }
      ]
    }
  ]
}