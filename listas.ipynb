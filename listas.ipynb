{
  "nbformat": 4,
  "nbformat_minor": 0,
  "metadata": {
    "colab": {
      "provenance": [],
      "authorship_tag": "ABX9TyMOv3HksnQj03Ggn+DoFkom",
      "include_colab_link": true
    },
    "kernelspec": {
      "name": "python3",
      "display_name": "Python 3"
    },
    "language_info": {
      "name": "python"
    }
  },
  "cells": [
    {
      "cell_type": "markdown",
      "metadata": {
        "id": "view-in-github",
        "colab_type": "text"
      },
      "source": [
        "<a href=\"https://colab.research.google.com/github/gabrielasenareis/python-basico/blob/main/listas.ipynb\" target=\"_parent\"><img src=\"https://colab.research.google.com/assets/colab-badge.svg\" alt=\"Open In Colab\"/></a>"
      ]
    },
    {
      "cell_type": "code",
      "execution_count": 13,
      "metadata": {
        "colab": {
          "base_uri": "https://localhost:8080/"
        },
        "id": "qcxb6YxIbQZS",
        "outputId": "6a987c1a-4340-4866-b63f-42741b17ec4c"
      },
      "outputs": [
        {
          "output_type": "stream",
          "name": "stdout",
          "text": [
            "[1, 2, 3, 4, 5]\n",
            "-----------------\n",
            "[1, 2, 3, [1, 2, 3], 'ab']\n",
            "-----------------\n",
            "[0, 1, 2, 3, 4]\n",
            "-----------------\n",
            "5\n",
            "-----------------\n",
            "b\n",
            "c\n",
            "d\n",
            "-----------------\n",
            "a\n",
            "b\n",
            "c\n",
            "d\n",
            "e\n"
          ]
        }
      ],
      "source": [
        "# listas com diferentes elementos\n",
        "\n",
        "lista1 = [1,2,3,4,5]\n",
        "print(lista1)\n",
        "print('-----------------')\n",
        "lista2 = [1,2,3,[1,2,3], 'ab']\n",
        "print(lista2)\n",
        "print('-----------------')\n",
        "# criando com range\n",
        "\n",
        "lista3 = list(range(0,5))\n",
        "print(lista3)\n",
        "print('-----------------')\n",
        "# comprimento da lista\n",
        "\n",
        "print(len(lista3))\n",
        "print('-----------------')\n",
        "# percorrendo a lista\n",
        "\n",
        "lista4 = ['a','b', 'c', 'd', 'e']\n",
        "consoante = 'bcd'\n",
        "for n in lista4:\n",
        "    if n in consoante:\n",
        "      print(n)\n",
        "\n",
        "print('-----------------')\n",
        "\n",
        "for n in range(0, len(lista4)):\n",
        "    print(lista4[n])\n",
        "\n"
      ]
    }
  ]
}